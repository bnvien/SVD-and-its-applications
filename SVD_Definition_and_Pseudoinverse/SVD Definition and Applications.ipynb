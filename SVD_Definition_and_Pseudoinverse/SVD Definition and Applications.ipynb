{
 "cells": [
  {
   "cell_type": "markdown",
   "metadata": {},
   "source": [
    "**SVD DEFINITION**"
   ]
  },
  {
   "cell_type": "markdown",
   "metadata": {},
   "source": [
    "Examples for SVD definition:"
   ]
  },
  {
   "cell_type": "code",
   "execution_count": 1,
   "metadata": {},
   "outputs": [
    {
     "name": "stdout",
     "output_type": "stream",
     "text": [
      "-----Matrix A-------\n",
      "[[ 3  2]\n",
      " [ 2  3]\n",
      " [ 2 -2]]\n",
      "-----SVD: U, D, Vt-------\n",
      "[[-7.07106781e-01  2.35702260e-01 -6.66666667e-01]\n",
      " [-7.07106781e-01 -2.35702260e-01  6.66666667e-01]\n",
      " [-1.66533454e-16  9.42809042e-01  3.33333333e-01]]\n",
      "[5. 3.]\n",
      "[[-0.70710678 -0.70710678]\n",
      " [ 0.70710678 -0.70710678]]\n"
     ]
    }
   ],
   "source": [
    "import numpy as np\n",
    "\n",
    "A = np.array([[3,2],[2,3],[2,-2]])\n",
    "print('-----Matrix A-------')\n",
    "print(A)\n",
    "\n",
    "print('-----SVD: U, D, Vt-------')\n",
    "[U,D,Vt] = np.linalg.svd(A, full_matrices=True)\n",
    "print(U)\n",
    "print(D)\n",
    "print(Vt)"
   ]
  },
  {
   "cell_type": "code",
   "execution_count": 17,
   "metadata": {},
   "outputs": [
    {
     "name": "stdout",
     "output_type": "stream",
     "text": [
      "-----U'.U and U.U'------\n",
      "[[1. 0.]\n",
      " [0. 1.]]\n",
      "[[1. 0.]\n",
      " [0. 1.]]\n",
      "-----Vt'.Vt and Vt.Vt'------\n",
      "[[1. 0. 0.]\n",
      " [0. 1. 0.]\n",
      " [0. 0. 1.]]\n",
      "[[ 1.  0.  0.]\n",
      " [ 0.  1. -0.]\n",
      " [ 0. -0.  1.]]\n",
      "----u characteristics---------\n",
      "1.0\n",
      "1.1102230246251565e-16\n"
     ]
    }
   ],
   "source": [
    "print(\"-----U'.U and U.U'------\")\n",
    "print(np.matrix.round(U.T.dot(U))) #matrix.round: avoid NumPy's imprecision\n",
    "print(np.matrix.round(U.dot(U.T)))\n",
    "\n",
    "print(\"-----Vt'.Vt and Vt.Vt'------\")\n",
    "print(np.matrix.round(Vt.T.dot(Vt)))\n",
    "print(np.matrix.round(Vt.dot(Vt.T)))\n",
    "\n",
    "print('----u characteristics---------')\n",
    "print(U[:,0].dot(U[:,0])) # U's columns are unit vectors\n",
    "print(U[:,0].dot(U[:,1])) # U's columns are orthogonal to each other"
   ]
  },
  {
   "cell_type": "code",
   "execution_count": 7,
   "metadata": {},
   "outputs": [
    {
     "name": "stdout",
     "output_type": "stream",
     "text": [
      "-----Matrix A-------\n",
      "[[ 3  2  2]\n",
      " [ 2  3 -2]]\n",
      "-----SVD: U, D, Vt-------\n",
      "[[-0.70710678 -0.70710678]\n",
      " [-0.70710678  0.70710678]]\n",
      "[5. 3.]\n",
      "[[-7.07106781e-01 -7.07106781e-01 -5.55111512e-17]\n",
      " [-2.35702260e-01  2.35702260e-01 -9.42809042e-01]\n",
      " [-6.66666667e-01  6.66666667e-01  3.33333333e-01]]\n"
     ]
    }
   ],
   "source": [
    "A = np.array([[3,2,2],[2,3,-2]])\n",
    "print('-----Matrix A-------')\n",
    "print(A)\n",
    "\n",
    "print('-----SVD: U, D, Vt-------')\n",
    "[U,D,Vt] = np.linalg.svd(A, full_matrices=True)\n",
    "print(U)\n",
    "print(D)\n",
    "print(Vt)"
   ]
  },
  {
   "cell_type": "markdown",
   "metadata": {},
   "source": [
    "Examples of Thin SVD:"
   ]
  },
  {
   "cell_type": "code",
   "execution_count": 20,
   "metadata": {},
   "outputs": [
    {
     "name": "stdout",
     "output_type": "stream",
     "text": [
      "-----Matrix A-------\n",
      "[[ 3  2]\n",
      " [ 2  3]\n",
      " [ 2 -2]]\n",
      "-----SVD: U, D, Vt-------\n",
      "[[-7.07106781e-01  2.35702260e-01]\n",
      " [-7.07106781e-01 -2.35702260e-01]\n",
      " [-1.66533454e-16  9.42809042e-01]]\n",
      "[5. 3.]\n",
      "[[-0.70710678 -0.70710678]\n",
      " [ 0.70710678 -0.70710678]]\n"
     ]
    }
   ],
   "source": [
    "A = np.array([[3,2],[2,3],[2,-2]])\n",
    "print('-----Matrix A-------')\n",
    "print(A)\n",
    "\n",
    "print('-----SVD: U, D, Vt-------')\n",
    "[U,D,Vt] = np.linalg.svd(A, full_matrices=False)\n",
    "print(U)\n",
    "print(D)\n",
    "print(Vt)"
   ]
  },
  {
   "cell_type": "markdown",
   "metadata": {},
   "source": [
    "Example of Compact SVD:"
   ]
  },
  {
   "cell_type": "code",
   "execution_count": 43,
   "metadata": {
    "scrolled": true
   },
   "outputs": [
    {
     "name": "stdout",
     "output_type": "stream",
     "text": [
      "-----A matrix of rank 2 (not full rank)-------\n",
      "[[ 3  2  4]\n",
      " [-1  1  2]\n",
      " [ 9  5 10]]\n",
      "-----SVD: U, D, Vt-------\n",
      "[[-0.35 -0.16 -0.92]\n",
      " [-0.08 -0.98  0.2 ]\n",
      " [-0.93  0.14  0.33]]\n",
      "[15.37  2.21  0.  ]\n",
      "[[-0.61 -0.35 -0.71]\n",
      " [ 0.79 -0.27 -0.55]\n",
      " [ 0.   -0.89  0.45]]\n",
      "-----Compact SVD: Ur, Dr, Vtr-------\n",
      "[[ 3.  2.  4.]\n",
      " [-1.  1.  2.]\n",
      " [ 9.  5. 10.]]\n"
     ]
    }
   ],
   "source": [
    "A = np.array([[3, 2, 4], [-1, 1, 2], [9, 5, 10]])\n",
    "print('-----A matrix of rank 2 (not full rank)-------')\n",
    "print(A)\n",
    "[U,D,Vt] = np.linalg.svd(A, full_matrices=False)\n",
    "print('-----SVD: U, D, Vt-------')\n",
    "print(np.matrix.round(U,2))\n",
    "print(np.matrix.round(D,2))\n",
    "print(np.matrix.round(Vt,2))\n",
    "print('-----Compact SVD: Ur, Dr, Vtr-------')\n",
    "Ur = U[:,:2]\n",
    "Dr = D[:2]\n",
    "Vtr = Vt[:2,:]\n",
    "print(Ur.dot(np.diag(Dr).dot(Vtr)))"
   ]
  },
  {
   "cell_type": "markdown",
   "metadata": {},
   "source": [
    "**SVD APPLICATIONS**"
   ]
  },
  {
   "cell_type": "markdown",
   "metadata": {},
   "source": [
    "Pseudo-Inverse Matrix"
   ]
  },
  {
   "cell_type": "code",
   "execution_count": 16,
   "metadata": {},
   "outputs": [
    {
     "name": "stdout",
     "output_type": "stream",
     "text": [
      "--------Pseudoinverse by SVD------\n",
      "[[ 0.16666667 -0.10606061  0.03030303]\n",
      " [-0.16666667  0.28787879  0.06060606]]\n",
      "--------Pseudoinverse by NumPy's pinv method------\n",
      "[[ 0.16666667 -0.10606061  0.03030303]\n",
      " [-0.16666667  0.28787879  0.06060606]]\n"
     ]
    }
   ],
   "source": [
    "A = np.array([[7, 2], [3, 4], [5, 3]])\n",
    "U, D, Vt = np.linalg.svd(A, full_matrices=True)\n",
    "\n",
    "# Pseudoinverse calculation\n",
    "D_plus = np.zeros(A.shape)\n",
    "# The following line assumes that there are no zero values \n",
    "# in D for quick calculation\n",
    "D_plus[:D.shape[0],:D.shape[0]] = np.diag(1/D)\n",
    "D_plus = D_plus.T\n",
    "A_plus = Vt.T.dot(D_plus.dot(U.T))\n",
    "\n",
    "print(\"--------Pseudoinverse by SVD------\")\n",
    "print(A_plus)\n",
    "print(\"--------Pseudoinverse by NumPy's pinv method------\")\n",
    "print(np.linalg.pinv(A))"
   ]
  },
  {
   "cell_type": "markdown",
   "metadata": {},
   "source": [
    "A linear regression problem"
   ]
  },
  {
   "cell_type": "code",
   "execution_count": 74,
   "metadata": {},
   "outputs": [
    {
     "data": {
      "image/png": "[encoded data removed]",
      "text/plain": [
       "<Figure size 576x360 with 1 Axes>"
      ]
     },
     "metadata": {
      "needs_background": "light"
     },
     "output_type": "display_data"
    }
   ],
   "source": [
    "import matplotlib.pyplot as plt\n",
    "%matplotlib inline\n",
    "\n",
    "dataset = np.array([[0, 1.5], [1, 2], [2, 6], [3, 6.5], [4, 10], [5, 12]])\n",
    "\n",
    "plt.rcParams[\"figure.figsize\"] = [8,5]\n",
    "plt.scatter(dataset[:, 0], dataset[:, 1])\n",
    "for i in np.arange(dataset.shape[0]):\n",
    "    plt.annotate('('+str(dataset[i][0]) + ', ' + str(dataset[i][1]) + ')', \n",
    "                 (dataset[:,0][i]+0.1, dataset[:,1][i]+0.1))\n",
    "plt.show()"
   ]
  },
  {
   "cell_type": "code",
   "execution_count": 75,
   "metadata": {
    "scrolled": true
   },
   "outputs": [
    {
     "data": {
      "image/png": "[encoded data removed]",
      "text/plain": [
       "<Figure size 576x360 with 1 Axes>"
      ]
     },
     "metadata": {
      "needs_background": "light"
     },
     "output_type": "display_data"
    }
   ],
   "source": [
    "# Construct matrix A and vector b\n",
    "A = dataset.copy()\n",
    "A[:,1] = 1\n",
    "b = dataset[:,1]\n",
    "\n",
    "# Calculate A_plus\n",
    "A_plus = np.linalg.pinv(A)\n",
    "\n",
    "# Calculate vector x\n",
    "x = A_plus.dot(b)\n",
    "\n",
    "# Plot the line\n",
    "lon = np.linspace(0,5,100)\n",
    "lat = x[0]*lon + x[1]\n",
    "plt.plot(lon, lat, '-r')\n",
    "plt.scatter(dataset[:, 0], dataset[:, 1])\n",
    "plt.show()"
   ]
  },
  {
   "cell_type": "code",
   "execution_count": 78,
   "metadata": {},
   "outputs": [
    {
     "name": "stdout",
     "output_type": "stream",
     "text": [
      "-----SVD: U, D, Vt-------\n",
      "[[-0.69366543  0.59343205]\n",
      " [-0.4427092  -0.79833696]\n",
      " [-0.56818732 -0.10245245]]\n",
      "[10.25142677  2.62835484]\n",
      "[[-0.88033817 -0.47434662]\n",
      " [ 0.47434662 -0.88033817]]\n",
      "--------Pseudoinverse by SVD------\n",
      "[[ 0.16666667 -0.10606061  0.03030303]\n",
      " [-0.16666667  0.28787879  0.06060606]]\n",
      "--------Pseudoinverse by NumPy's pinv method------\n",
      "[[ 0.16666667 -0.10606061  0.03030303]\n",
      " [-0.16666667  0.28787879  0.06060606]]\n"
     ]
    }
   ],
   "source": [
    "A = np.array([[7, 2], [3, 4], [5, 3]])\n",
    "U, D, Vt = np.linalg.svd(A, full_matrices=False)\n",
    "\n",
    "print('-----SVD: U, D, Vt-------')\n",
    "print(U)\n",
    "print(D)\n",
    "print(Vt)\n",
    "\n",
    "# Pseudoinverse calculation\n",
    "D_plus = np.zeros(Vt.shape)\n",
    "# The following line assumes that there are no zero values \n",
    "# in D for quick calculation\n",
    "D_plus[:D.shape[0],:D.shape[0]] = np.diag(1/D)\n",
    "D_plus = D_plus.T\n",
    "A_plus = Vt.T.dot(D_plus.dot(U.T))\n",
    "\n",
    "print(\"--------Pseudoinverse by SVD------\")\n",
    "print(A_plus)\n",
    "print(\"--------Pseudoinverse by NumPy's pinv method------\")\n",
    "print(np.linalg.pinv(A))"
   ]
  }
 ],
 "metadata": {
  "kernelspec": {
   "display_name": "Python 3",
   "language": "python",
   "name": "python3"
  },
  "language_info": {
   "codemirror_mode": {
    "name": "ipython",
    "version": 3
   },
   "file_extension": ".py",
   "mimetype": "text/x-python",
   "name": "python",
   "nbconvert_exporter": "python",
   "pygments_lexer": "ipython3",
   "version": "3.6.7"
  }
 },
 "nbformat": 4,
 "nbformat_minor": 2
}
